{
 "cells": [
  {
   "cell_type": "markdown",
   "id": "a7c7037c",
   "metadata": {},
   "source": [
    "# Scrapping Trip"
   ]
  },
  {
   "cell_type": "markdown",
   "id": "8d045f33",
   "metadata": {},
   "source": [
    "To complete the data base of the hotels we are going to scrap tripadvisor website again. I took the code for scrapping from my previous project were I already had the code prepare and the list of unique hotels. "
   ]
  },
  {
   "cell_type": "code",
   "execution_count": 1,
   "id": "101182b5",
   "metadata": {},
   "outputs": [],
   "source": [
    "import requests\n",
    "import pandas as pd\n",
    "from time import sleep\n",
    "import numpy as np\n",
    "\n",
    "from selenium import webdriver\n",
    "from webdriver_manager.chrome import ChromeDriverManager\n",
    "from selenium.webdriver.common.keys import Keys\n",
    "from selenium.webdriver.chrome.options import Options\n",
    "\n",
    "\n",
    "import warnings\n",
    "warnings.filterwarnings('ignore')"
   ]
  },
  {
   "cell_type": "markdown",
   "id": "17b6138d",
   "metadata": {},
   "source": [
    "The following csv correspond to the list of hotels and the reviews from the previous scrapping"
   ]
  },
  {
   "cell_type": "code",
   "execution_count": 3,
   "id": "d3e3fe77",
   "metadata": {
    "scrolled": true
   },
   "outputs": [
    {
     "data": {
      "text/html": [
       "<div>\n",
       "<style scoped>\n",
       "    .dataframe tbody tr th:only-of-type {\n",
       "        vertical-align: middle;\n",
       "    }\n",
       "\n",
       "    .dataframe tbody tr th {\n",
       "        vertical-align: top;\n",
       "    }\n",
       "\n",
       "    .dataframe thead th {\n",
       "        text-align: right;\n",
       "    }\n",
       "</style>\n",
       "<table border=\"1\" class=\"dataframe\">\n",
       "  <thead>\n",
       "    <tr style=\"text-align: right;\">\n",
       "      <th></th>\n",
       "      <th>Hotel</th>\n",
       "      <th>Trip_Rate</th>\n",
       "      <th>Trip_Location</th>\n",
       "      <th>Trip_Cleanliness</th>\n",
       "      <th>Trip_Service</th>\n",
       "      <th>Trip_Value</th>\n",
       "    </tr>\n",
       "  </thead>\n",
       "  <tbody>\n",
       "    <tr>\n",
       "      <th>0</th>\n",
       "      <td>Rosewood Castiglion del Bosco</td>\n",
       "      <td>5.0</td>\n",
       "      <td>4.7</td>\n",
       "      <td>4.9</td>\n",
       "      <td>4.8</td>\n",
       "      <td>4.4</td>\n",
       "    </tr>\n",
       "    <tr>\n",
       "      <th>1</th>\n",
       "      <td>Grace Hotel</td>\n",
       "      <td>5.0</td>\n",
       "      <td>4.9</td>\n",
       "      <td>4.9</td>\n",
       "      <td>4.8</td>\n",
       "      <td>4.4</td>\n",
       "    </tr>\n",
       "    <tr>\n",
       "      <th>2</th>\n",
       "      <td>Waldorf Astoria Maldives Ithaafushi</td>\n",
       "      <td>5.0</td>\n",
       "      <td>4.9</td>\n",
       "      <td>4.9</td>\n",
       "      <td>4.8</td>\n",
       "      <td>4.5</td>\n",
       "    </tr>\n",
       "    <tr>\n",
       "      <th>3</th>\n",
       "      <td>Pickering House Inn</td>\n",
       "      <td>5.0</td>\n",
       "      <td>5.0</td>\n",
       "      <td>4.8</td>\n",
       "      <td>4.9</td>\n",
       "      <td>4.4</td>\n",
       "    </tr>\n",
       "    <tr>\n",
       "      <th>4</th>\n",
       "      <td>One&amp;Only Reethi Rah</td>\n",
       "      <td>5.0</td>\n",
       "      <td>4.8</td>\n",
       "      <td>4.9</td>\n",
       "      <td>4.8</td>\n",
       "      <td>4.2</td>\n",
       "    </tr>\n",
       "  </tbody>\n",
       "</table>\n",
       "</div>"
      ],
      "text/plain": [
       "                                 Hotel  Trip_Rate  Trip_Location  \\\n",
       "0        Rosewood Castiglion del Bosco        5.0            4.7   \n",
       "1                          Grace Hotel        5.0            4.9   \n",
       "2  Waldorf Astoria Maldives Ithaafushi        5.0            4.9   \n",
       "3                  Pickering House Inn        5.0            5.0   \n",
       "4                  One&Only Reethi Rah        5.0            4.8   \n",
       "\n",
       "   Trip_Cleanliness  Trip_Service  Trip_Value  \n",
       "0               4.9           4.8         4.4  \n",
       "1               4.9           4.8         4.4  \n",
       "2               4.9           4.8         4.5  \n",
       "3               4.8           4.9         4.4  \n",
       "4               4.9           4.8         4.2  "
      ]
     },
     "execution_count": 3,
     "metadata": {},
     "output_type": "execute_result"
    }
   ],
   "source": [
    "df = pd.read_csv(\"../Data/df_datos_trip.csv\", sep=',', encoding='UTF-8', index_col=0)\n",
    "pd.options.display.max_columns = None\n",
    "df.head(5)"
   ]
  },
  {
   "cell_type": "code",
   "execution_count": 6,
   "id": "b7010cac",
   "metadata": {},
   "outputs": [
    {
     "name": "stdout",
     "output_type": "stream",
     "text": [
      "['Rosewood Castiglion del Bosco', 'Grace Hotel', 'Waldorf Astoria Maldives Ithaafushi', 'Pickering House Inn', 'One&Only Reethi Rah', 'Royal Mansour Marrakech', 'Capella Ubud', 'The Lowell', 'Hôtel Madame Rêve', 'Rosewood Villa Magna', 'The Oberoi New Delhi', 'The Oberoi Udaivilas', 'Mandapa, a Ritz-Carlton Reserve', 'Wilderness Safaris Bisate Lodge', 'Portrait Firenze', 'Raffles Istanbul', 'The Oberoi Marrakech', 'Capella Hanoi', 'White Elephant Palm Beach', 'The Loutrel', 'Monasterio', 'Sani Asterias', 'Shangri-La the Shard', 'Coquillade Provence Resort & Spa', 'Taj Palace', 'Pendry Chicago', 'Nayara Tented Camp', 'Hotel Belmar', 'Royal Champagne Hôtel & Spa', 'Under Canvas Mount Rushmore', 'Riggs Washington D.C.', 'Waldorf Astoria Los Cabos Pedregal', 'The Oberoi Vanyavilas Wildlife Resort', 'Canaves Oia Epitome ', 'The Standard ', 'The Oberoi Amarvilas', 'Hotel Santa Caterina', \"Raffles Grand Hotel d'Angkor\", 'Nihi Sumba', 'La Réserve Paris', 'Hotel de la Ville', 'Il San Pietro di Positano', 'Six Senses Yao Noi', 'Finca Cortesin Hotel Golf & Spa', 'Secret Bay', 'Cape Grace', 'Taj Lake Palace', 'Taj Falaknuma Palace', 'Alila Villas Uluwatu', 'Manoir Hovey', 'Six Senses Con Dao', 'Cavas Wine Lodge', 'Grand Hotel Tremezzo', 'Nayara Springs', 'Lodge on Little St. Simons Island', 'Rancho Santana', 'Amanpuri', 'Mandarin Oriental Marrakech', 'Namale Resort & Spa', \"Gibb's Farm\", 'Jade Mountain', 'Borgo Egnazia', 'Four Seasons Hotel Kyoto', 'San Ysidro Ranch', 'The Goring', 'The Oberoi Rajvilas', 'Palm Island Resort', 'Hotel Savoy', 'Rambagh Palace', 'Curtain Bluff', 'Morrison House Old Town Alexandria, Autograph Collection', 'The Lytle Park Hotel, Autograph Collection', 'Twin Farms', 'Deer Path Inn', 'One&Only Nyungwe House', 'W Santiago', 'Shangri-La Singapore', \"L'Ermitage Beverly Hills\", 'Silo Hotel', 'Katikies Santorini', 'Nobu Hotel', 'The Shore Club', 'Taj Holiday Village Resort & Spa', 'Mandarin Oriental Bangkok', 'Auberge Saint-Antoine', 'Rosewood Miramar Beach', 'Rio Celeste Hideaway Hotel', 'Hotel Caesar Augustus', 'Grand Hotel Villa Serbelloni', 'Le Bristol Paris', 'Shangri-La Bosphorus', 'The Palms Turks & Caicos', 'The Lodge at Blue Sky, Auberge Resorts Collection', 'Little Palm Island Resort & Spa', 'Le Sirenuse', 'andBeyond Ngorongoro Crater Lodge', 'Casa San Agustín', 'The Connaught', 'Wentworth Mansion', 'Taj Lands End', 'Birkenhead House', 'Mahali Mzuri', 'Nayara Tented Group', 'The Opposite House', 'Capella Bangkok', 'Kamalame Cay', 'The Temple House', 'Hotel Paracas', 'Savute Elephant Lodge, A Belmond Safari', 'Mandarin Oriental Milan', 'La Reserve Paris', 'Nobu Ryokan', 'Soneva Fushi', 'Alila Manggis', 'Phinda Vlei Lodge', 'Il Sereno Lago di Como', 'Istanbul At Sultanahmet', 'The Peninsula Manila', 'Hotel Il Pellicano', 'Hotel Fasano Boa Vista', 'Halekulani Okinawa', 'The Lake House on Canandaigua', 'Hyatt Regency Amritsar', 'Leela Palace Udaipur', 'Nayara Gardens', 'Rancho Valencia Resort & Spa', 'The Oberoi Mumbai', 'Tierra Atacama Hotel & Spa', 'Viceroy Riviera Maya', 'St. Regis Istanbul', 'Katikies Mykonos', 'The Lanesborough', 'The Roundtree', 'Mashpi Lodge', 'Angama Mara', 'Grand Hotel Excelsior Vittoria', 'Sumaq Machu Picchu Hotel', 'Las Ventanas al Paraíso', 'Viceroy Chicago', 'Singita Grumeti', 'Four Seasons Bangkok', 'The Lodge & Spa at Brush Creek Ranch', 'St. Regis Florence', 'Mandarin Oriental Paris', 'Matetsi Victoria Falls', 'Round Hill Hotel and Villas', 'Khwai River Lodge', 'Soneva Jani', 'Inn of the Five Graces', 'Zadun, a Ritz-Carlton Reserve', 'Mfuwe Lodge', 'InterContinental Bora Bora Resort & Thalasso Spa', 'Banyan Tree Cabo Marqués', 'Ngala Safari Lodge', 'Sasaab', 'The Sukhothai Bangkok', 'The Oberoi Grand', 'Hôtel Plaza Athénée', 'Mahekal Beach Resort', 'The Fullerton Hotel Singapore', 'Casa Chameleon', 'Hôtel Crillon Le Brave', 'Six Senses Laamu', 'The Wickaninnish Inn', 'Penha Longa Resort', 'The St. Regis Bora Bora Resort', 'Lion Sands Game Reserve', 'The Oyster Box', 'The Stafford', 'Tambo del Inka, a Luxury Collection Resort & Spa', 'Cap Maison', 'Tensing Pen', 'Hôtel Le Toiny', 'Rosewood Mayakoba', 'Canaves Oia Boutique Hotel', 'Montage Los Cabos', \"Badrutt's Palace Hotel\"]\n"
     ]
    }
   ],
   "source": [
    "hotel_rev = df[\"Hotel\"].unique().tolist()\n",
    "print(hotel_rev)"
   ]
  },
  {
   "cell_type": "markdown",
   "id": "abf563bf",
   "metadata": {},
   "source": [
    "Below the code to do the scrapping on Tripadvisor Web"
   ]
  },
  {
   "cell_type": "code",
   "execution_count": 4,
   "id": "18693f28",
   "metadata": {},
   "outputs": [],
   "source": [
    "opciones= Options()\n",
    "opciones.add_experimental_option('excludeSwitches', ['enable-automation'])\n",
    "opciones.add_experimental_option('useAutomationExtension', False)\n",
    "opciones.add_argument('--start-maximized') \n",
    "opciones.add_argument('user.data-dir=selenium') \n",
    "opciones.add_argument('--incognito')"
   ]
  },
  {
   "cell_type": "code",
   "execution_count": 9,
   "id": "fc6b19b7",
   "metadata": {},
   "outputs": [],
   "source": [
    "hotels_link = {\"Hotel\": [],\n",
    "                \"Link_hotel\": []} \n",
    "\n",
    "for hotel in hotel_rev: \n",
    "    driver = webdriver.Chrome(ChromeDriverManager().install())\n",
    "    driver.implicitly_wait(8)\n",
    "\n",
    "\n",
    "    driver.get(\"https://www.tripadvisor.com\")\n",
    "    driver.implicitly_wait(9)\n",
    "              \n",
    "\n",
    "    driver.find_element(\"css selector\", \"#onetrust-accept-btn-handler\").click()\n",
    "    sleep(7)\n",
    "\n",
    "    driver.find_element(\"css selector\", \"#lithium-root > main > div.cBOoN > div.rGQXC._T.ivvQp > div > div > div:nth-child(1) > a > span.QLiHN.o.W > span\").click()\n",
    "    sleep(5)\n",
    "\n",
    "    driver.find_element(\"css selector\", \"body > div.kaEuY > div > form > input.qjfqs._G.B-.z._J.Cj.R0\").click()\n",
    "    sleep(5)\n",
    "\n",
    "    driver.find_element(\"css selector\", \"body > div.kaEuY > div > form > input.qjfqs._G.B-.z._J.Cj.R0\").send_keys(f\"{hotel}\", Keys.TAB)\n",
    "    sleep(6)\n",
    "\n",
    "    driver.find_element(\"css selector\", \"#typeahead_results > a:nth-child(2) > div.EtzER > div.biGQs._P.fiohW.fOtGX\").click()\n",
    "    sleep(5)\n",
    "        \n",
    "    hotels_link[\"Hotel\"].append(f\"{hotel}\")\n",
    "\n",
    "    try:\n",
    "        hotels_link[\"Link_hotel\"].append(driver.find_element(\"css selector\", \"#ABOUT_TAB > div.ui_columns.MXlSZ > div:nth-child(2) > div.ssr-init-26f.pmndW > div.eeVey.S4.H3.f.u.QkOyE > a\").get_attribute('href'))\n",
    "    except: \n",
    "        hotels_link[\"Link_hotel\"].append(np.nan)\n",
    "\n",
    "    driver.quit()\n",
    "        "
   ]
  },
  {
   "cell_type": "markdown",
   "id": "3c096453",
   "metadata": {},
   "source": [
    "As a result for the scrapping we obtain a list that we convert into a DataFrame"
   ]
  },
  {
   "cell_type": "code",
   "execution_count": 108,
   "id": "67b80005",
   "metadata": {},
   "outputs": [
    {
     "data": {
      "text/html": [
       "<div>\n",
       "<style scoped>\n",
       "    .dataframe tbody tr th:only-of-type {\n",
       "        vertical-align: middle;\n",
       "    }\n",
       "\n",
       "    .dataframe tbody tr th {\n",
       "        vertical-align: top;\n",
       "    }\n",
       "\n",
       "    .dataframe thead th {\n",
       "        text-align: right;\n",
       "    }\n",
       "</style>\n",
       "<table border=\"1\" class=\"dataframe\">\n",
       "  <thead>\n",
       "    <tr style=\"text-align: right;\">\n",
       "      <th></th>\n",
       "      <th>Hotel</th>\n",
       "      <th>Link_hotel</th>\n",
       "    </tr>\n",
       "  </thead>\n",
       "  <tbody>\n",
       "    <tr>\n",
       "      <th>0</th>\n",
       "      <td>Rosewood Castiglion del Bosco</td>\n",
       "      <td>https://www.tripadvisor.com/Commerce?p=TABAInd...</td>\n",
       "    </tr>\n",
       "    <tr>\n",
       "      <th>1</th>\n",
       "      <td>Grace Hotel</td>\n",
       "      <td>NaN</td>\n",
       "    </tr>\n",
       "    <tr>\n",
       "      <th>2</th>\n",
       "      <td>Waldorf Astoria Maldives Ithaafushi</td>\n",
       "      <td>https://www.tripadvisor.com/Commerce?p=TABAInd...</td>\n",
       "    </tr>\n",
       "    <tr>\n",
       "      <th>3</th>\n",
       "      <td>Pickering House Inn</td>\n",
       "      <td>NaN</td>\n",
       "    </tr>\n",
       "    <tr>\n",
       "      <th>4</th>\n",
       "      <td>One&amp;Only Reethi Rah</td>\n",
       "      <td>https://www.tripadvisor.com/Commerce?p=TABAInd...</td>\n",
       "    </tr>\n",
       "  </tbody>\n",
       "</table>\n",
       "</div>"
      ],
      "text/plain": [
       "                                 Hotel  \\\n",
       "0        Rosewood Castiglion del Bosco   \n",
       "1                          Grace Hotel   \n",
       "2  Waldorf Astoria Maldives Ithaafushi   \n",
       "3                  Pickering House Inn   \n",
       "4                  One&Only Reethi Rah   \n",
       "\n",
       "                                          Link_hotel  \n",
       "0  https://www.tripadvisor.com/Commerce?p=TABAInd...  \n",
       "1                                                NaN  \n",
       "2  https://www.tripadvisor.com/Commerce?p=TABAInd...  \n",
       "3                                                NaN  \n",
       "4  https://www.tripadvisor.com/Commerce?p=TABAInd...  "
      ]
     },
     "execution_count": 108,
     "metadata": {},
     "output_type": "execute_result"
    }
   ],
   "source": [
    "Hotel_link = pd.DataFrame(hotels_link, columns=[\"Hotel\",\"Link_hotel\"])\n",
    "Hotel_link.head()"
   ]
  },
  {
   "cell_type": "markdown",
   "id": "663c7b89",
   "metadata": {},
   "source": [
    "We can see that there are to many Nan values for the link column. "
   ]
  },
  {
   "cell_type": "code",
   "execution_count": 103,
   "id": "5047367a",
   "metadata": {
    "scrolled": true
   },
   "outputs": [
    {
     "data": {
      "text/html": [
       "<div>\n",
       "<style scoped>\n",
       "    .dataframe tbody tr th:only-of-type {\n",
       "        vertical-align: middle;\n",
       "    }\n",
       "\n",
       "    .dataframe tbody tr th {\n",
       "        vertical-align: top;\n",
       "    }\n",
       "\n",
       "    .dataframe thead th {\n",
       "        text-align: right;\n",
       "    }\n",
       "</style>\n",
       "<table border=\"1\" class=\"dataframe\">\n",
       "  <thead>\n",
       "    <tr style=\"text-align: right;\">\n",
       "      <th></th>\n",
       "      <th>Hotel</th>\n",
       "      <th>Link_hotel</th>\n",
       "    </tr>\n",
       "  </thead>\n",
       "  <tbody>\n",
       "    <tr>\n",
       "      <th>1</th>\n",
       "      <td>Grace Hotel</td>\n",
       "      <td>NaN</td>\n",
       "    </tr>\n",
       "    <tr>\n",
       "      <th>3</th>\n",
       "      <td>Pickering House Inn</td>\n",
       "      <td>NaN</td>\n",
       "    </tr>\n",
       "    <tr>\n",
       "      <th>7</th>\n",
       "      <td>The Lowell</td>\n",
       "      <td>NaN</td>\n",
       "    </tr>\n",
       "    <tr>\n",
       "      <th>8</th>\n",
       "      <td>Hôtel Madame Rêve</td>\n",
       "      <td>NaN</td>\n",
       "    </tr>\n",
       "    <tr>\n",
       "      <th>9</th>\n",
       "      <td>Rosewood Villa Magna</td>\n",
       "      <td>NaN</td>\n",
       "    </tr>\n",
       "  </tbody>\n",
       "</table>\n",
       "</div>"
      ],
      "text/plain": [
       "                  Hotel Link_hotel\n",
       "1           Grace Hotel        NaN\n",
       "3   Pickering House Inn        NaN\n",
       "7            The Lowell        NaN\n",
       "8     Hôtel Madame Rêve        NaN\n",
       "9  Rosewood Villa Magna        NaN"
      ]
     },
     "execution_count": 103,
     "metadata": {},
     "output_type": "execute_result"
    }
   ],
   "source": [
    "nan_rows_trip = Hotel_link[Hotel_link['Link_hotel'].isna()]\n",
    "nan_rows_trip.head()"
   ]
  },
  {
   "cell_type": "markdown",
   "id": "a81a697e",
   "metadata": {},
   "source": [
    "So we are going to do the scrapping in Google, for the hotels which didn't had a link in the Tripadvisor website, so first we create the list to then do the scrapping."
   ]
  },
  {
   "cell_type": "code",
   "execution_count": 58,
   "id": "159ab097",
   "metadata": {},
   "outputs": [],
   "source": [
    "df_google_link = nan_rows_trip[[\"Hotel\"]]\n",
    "list_google_link = df_google_link[\"Hotel\"].tolist()"
   ]
  },
  {
   "cell_type": "code",
   "execution_count": 61,
   "id": "4640c782",
   "metadata": {},
   "outputs": [],
   "source": [
    "hotels_link_google = {\"Hotel\": [],\n",
    "                \"Link_hotel\": []} \n",
    "\n",
    "for hotel in list_google_link: \n",
    "    driver = webdriver.Chrome(ChromeDriverManager().install())\n",
    "    driver.implicitly_wait(8)\n",
    "            \n",
    "    driver.get(\"https://www.google.com\")\n",
    "    driver.implicitly_wait(7)\n",
    "\n",
    "    driver.find_element(\"css selector\", \"#L2AGLb > div\").click()\n",
    "    sleep(4)\n",
    "\n",
    "    driver.find_element(\"css selector\", \"body > div.L3eUgb > div.o3j99.ikrT4e.om7nvf > form > div:nth-child(1) > div.A8SBwf > div.RNNXgb > div > div.a4bIc > input\").send_keys(f\"{hotel}\", Keys.ENTER)\n",
    "    sleep(6)\n",
    "        \n",
    "    hotels_link_google[\"Hotel\"].append(hotel)\n",
    "        \n",
    "    try:\n",
    "        hotels_link_google[\"Link_hotel\"].append(driver.find_element('xpath', '/html/body/div[7]/div/div[11]/div[2]/div/div/div[2]/div/div[1]/div/div[2]/div[1]/div/div/div/div[1]/a').get_attribute('href'))\n",
    "    except: \n",
    "        hotels_link_google[\"Link_hotel\"].append(np.nan)\n",
    "\n",
    "        driver.quit()\n",
    "    "
   ]
  },
  {
   "cell_type": "code",
   "execution_count": 55,
   "id": "6febb903",
   "metadata": {},
   "outputs": [],
   "source": [
    "driver = webdriver.Chrome(ChromeDriverManager().install())\n",
    "driver.implicitly_wait(8)\n",
    "            \n",
    "driver.get(\"https://www.google.com\")\n",
    "driver.implicitly_wait(7)\n",
    "\n",
    "driver.find_element(\"css selector\", \"#L2AGLb > div\").click()\n",
    "sleep(4)\n",
    "\n",
    "driver.find_element(\"css selector\", \"body > div.L3eUgb > div.o3j99.ikrT4e.om7nvf > form > div:nth-child(1) > div.A8SBwf > div.RNNXgb > div > div.a4bIc > input\").send_keys(\"Cap Maison\", Keys.ENTER)\n",
    "sleep(8)\n",
    "        \n",
    "\n",
    "Link_hotel = driver.find_element('xpath', '/html/body/div[7]/div/div[11]/div[2]/div/div/div[2]/div/div[1]/div/div[2]/div[1]/div/div/div/div[1]/a').get_attribute('href')\n",
    "\n",
    "\n"
   ]
  },
  {
   "cell_type": "code",
   "execution_count": 102,
   "id": "784ee670",
   "metadata": {},
   "outputs": [
    {
     "data": {
      "text/html": [
       "<div>\n",
       "<style scoped>\n",
       "    .dataframe tbody tr th:only-of-type {\n",
       "        vertical-align: middle;\n",
       "    }\n",
       "\n",
       "    .dataframe tbody tr th {\n",
       "        vertical-align: top;\n",
       "    }\n",
       "\n",
       "    .dataframe thead th {\n",
       "        text-align: right;\n",
       "    }\n",
       "</style>\n",
       "<table border=\"1\" class=\"dataframe\">\n",
       "  <thead>\n",
       "    <tr style=\"text-align: right;\">\n",
       "      <th></th>\n",
       "      <th>Hotel</th>\n",
       "      <th>Link_hotel</th>\n",
       "    </tr>\n",
       "  </thead>\n",
       "  <tbody>\n",
       "    <tr>\n",
       "      <th>0</th>\n",
       "      <td>Grace Hotel</td>\n",
       "      <td>https://aubergeresorts.com/gracehotel/?utm_sou...</td>\n",
       "    </tr>\n",
       "    <tr>\n",
       "      <th>1</th>\n",
       "      <td>Pickering House Inn</td>\n",
       "      <td>http://www.pickeringhousewolfeboro.com/</td>\n",
       "    </tr>\n",
       "    <tr>\n",
       "      <th>2</th>\n",
       "      <td>The Lowell</td>\n",
       "      <td>https://www.lowellhotel.com/?utm_source=mybusi...</td>\n",
       "    </tr>\n",
       "    <tr>\n",
       "      <th>3</th>\n",
       "      <td>Hôtel Madame Rêve</td>\n",
       "      <td>https://madamereve.com/?utm_source=google&amp;utm_...</td>\n",
       "    </tr>\n",
       "    <tr>\n",
       "      <th>4</th>\n",
       "      <td>Rosewood Villa Magna</td>\n",
       "      <td>https://www.rosewoodhotels.com/en/villa-magna</td>\n",
       "    </tr>\n",
       "    <tr>\n",
       "      <th>...</th>\n",
       "      <td>...</td>\n",
       "      <td>...</td>\n",
       "    </tr>\n",
       "    <tr>\n",
       "      <th>76</th>\n",
       "      <td>Lion Sands Game Reserve</td>\n",
       "      <td>http://www.lionsands.com/</td>\n",
       "    </tr>\n",
       "    <tr>\n",
       "      <th>77</th>\n",
       "      <td>The Stafford</td>\n",
       "      <td>http://www.thestaffordlondon.com/</td>\n",
       "    </tr>\n",
       "    <tr>\n",
       "      <th>78</th>\n",
       "      <td>Cap Maison</td>\n",
       "      <td>https://capmaison.com/</td>\n",
       "    </tr>\n",
       "    <tr>\n",
       "      <th>79</th>\n",
       "      <td>Tensing Pen</td>\n",
       "      <td>https://www.tensingpen.com/</td>\n",
       "    </tr>\n",
       "    <tr>\n",
       "      <th>80</th>\n",
       "      <td>Hôtel Le Toiny</td>\n",
       "      <td>http://www.letoiny.com/</td>\n",
       "    </tr>\n",
       "  </tbody>\n",
       "</table>\n",
       "<p>81 rows × 2 columns</p>\n",
       "</div>"
      ],
      "text/plain": [
       "                      Hotel                                         Link_hotel\n",
       "0               Grace Hotel  https://aubergeresorts.com/gracehotel/?utm_sou...\n",
       "1       Pickering House Inn            http://www.pickeringhousewolfeboro.com/\n",
       "2                The Lowell  https://www.lowellhotel.com/?utm_source=mybusi...\n",
       "3         Hôtel Madame Rêve  https://madamereve.com/?utm_source=google&utm_...\n",
       "4      Rosewood Villa Magna      https://www.rosewoodhotels.com/en/villa-magna\n",
       "..                      ...                                                ...\n",
       "76  Lion Sands Game Reserve                          http://www.lionsands.com/\n",
       "77             The Stafford                  http://www.thestaffordlondon.com/\n",
       "78               Cap Maison                             https://capmaison.com/\n",
       "79              Tensing Pen                        https://www.tensingpen.com/\n",
       "80           Hôtel Le Toiny                            http://www.letoiny.com/\n",
       "\n",
       "[81 rows x 2 columns]"
      ]
     },
     "execution_count": 102,
     "metadata": {},
     "output_type": "execute_result"
    }
   ],
   "source": [
    "hotels_link_2 = pd.DataFrame(hotels_link_google, columns=[\"Hotel\",\"Link_hotel\"])\n",
    "hotels_link_2"
   ]
  },
  {
   "cell_type": "code",
   "execution_count": 111,
   "id": "52575643",
   "metadata": {},
   "outputs": [],
   "source": [
    "Hotel_link.fillna(hotels_link_2, inplace=True)"
   ]
  },
  {
   "cell_type": "code",
   "execution_count": 114,
   "id": "31514643",
   "metadata": {},
   "outputs": [
    {
     "data": {
      "text/html": [
       "<div>\n",
       "<style scoped>\n",
       "    .dataframe tbody tr th:only-of-type {\n",
       "        vertical-align: middle;\n",
       "    }\n",
       "\n",
       "    .dataframe tbody tr th {\n",
       "        vertical-align: top;\n",
       "    }\n",
       "\n",
       "    .dataframe thead th {\n",
       "        text-align: right;\n",
       "    }\n",
       "</style>\n",
       "<table border=\"1\" class=\"dataframe\">\n",
       "  <thead>\n",
       "    <tr style=\"text-align: right;\">\n",
       "      <th></th>\n",
       "      <th>Hotel</th>\n",
       "      <th>Link_hotel</th>\n",
       "    </tr>\n",
       "  </thead>\n",
       "  <tbody>\n",
       "    <tr>\n",
       "      <th>0</th>\n",
       "      <td>Rosewood Castiglion del Bosco</td>\n",
       "      <td>https://www.tripadvisor.com/Commerce?p=TABAInd...</td>\n",
       "    </tr>\n",
       "    <tr>\n",
       "      <th>1</th>\n",
       "      <td>Grace Hotel</td>\n",
       "      <td>http://www.pickeringhousewolfeboro.com/</td>\n",
       "    </tr>\n",
       "    <tr>\n",
       "      <th>2</th>\n",
       "      <td>Waldorf Astoria Maldives Ithaafushi</td>\n",
       "      <td>https://www.tripadvisor.com/Commerce?p=TABAInd...</td>\n",
       "    </tr>\n",
       "    <tr>\n",
       "      <th>3</th>\n",
       "      <td>Pickering House Inn</td>\n",
       "      <td>https://madamereve.com/?utm_source=google&amp;utm_...</td>\n",
       "    </tr>\n",
       "    <tr>\n",
       "      <th>4</th>\n",
       "      <td>One&amp;Only Reethi Rah</td>\n",
       "      <td>https://www.tripadvisor.com/Commerce?p=TABAInd...</td>\n",
       "    </tr>\n",
       "  </tbody>\n",
       "</table>\n",
       "</div>"
      ],
      "text/plain": [
       "                                 Hotel  \\\n",
       "0        Rosewood Castiglion del Bosco   \n",
       "1                          Grace Hotel   \n",
       "2  Waldorf Astoria Maldives Ithaafushi   \n",
       "3                  Pickering House Inn   \n",
       "4                  One&Only Reethi Rah   \n",
       "\n",
       "                                          Link_hotel  \n",
       "0  https://www.tripadvisor.com/Commerce?p=TABAInd...  \n",
       "1            http://www.pickeringhousewolfeboro.com/  \n",
       "2  https://www.tripadvisor.com/Commerce?p=TABAInd...  \n",
       "3  https://madamereve.com/?utm_source=google&utm_...  \n",
       "4  https://www.tripadvisor.com/Commerce?p=TABAInd...  "
      ]
     },
     "execution_count": 114,
     "metadata": {},
     "output_type": "execute_result"
    }
   ],
   "source": [
    "links_hotels = Hotel_link.copy()\n",
    "links_hotels.head()"
   ]
  },
  {
   "cell_type": "markdown",
   "id": "6f3ea6e4",
   "metadata": {},
   "source": [
    "I save the data in the folder Data"
   ]
  },
  {
   "cell_type": "code",
   "execution_count": 116,
   "id": "19c82255",
   "metadata": {},
   "outputs": [],
   "source": [
    "links_hotels.to_csv(\"../Data/df_hotel_link.csv\")"
   ]
  },
  {
   "cell_type": "code",
   "execution_count": null,
   "id": "1609a0e3",
   "metadata": {},
   "outputs": [],
   "source": []
  }
 ],
 "metadata": {
  "kernelspec": {
   "display_name": "IRONHACK",
   "language": "python",
   "name": "ironhack"
  },
  "language_info": {
   "codemirror_mode": {
    "name": "ipython",
    "version": 3
   },
   "file_extension": ".py",
   "mimetype": "text/x-python",
   "name": "python",
   "nbconvert_exporter": "python",
   "pygments_lexer": "ipython3",
   "version": "3.10.8"
  }
 },
 "nbformat": 4,
 "nbformat_minor": 5
}
