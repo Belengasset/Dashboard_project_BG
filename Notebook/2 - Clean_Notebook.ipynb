{
 "cells": [
  {
   "cell_type": "markdown",
   "id": "fcb12a72",
   "metadata": {},
   "source": [
    "# Review of DF"
   ]
  },
  {
   "cell_type": "code",
   "execution_count": 32,
   "id": "0e43305c",
   "metadata": {},
   "outputs": [],
   "source": [
    "import pandas as pd\n",
    "import numpy as np"
   ]
  },
  {
   "cell_type": "markdown",
   "id": "25dd85aa",
   "metadata": {},
   "source": [
    "First I check the df of google which contains all the hotels and it's rating"
   ]
  },
  {
   "cell_type": "code",
   "execution_count": 141,
   "id": "db63cd38",
   "metadata": {},
   "outputs": [],
   "source": [
    "dfgoogle = pd.read_csv(\"Data/df_datos_google_unicos.csv\", sep=',', encoding='UTF-8',index_col=0)\n",
    "pd.options.display.max_columns = None\n",
    "pd.options.display.max_rows = None"
   ]
  },
  {
   "cell_type": "code",
   "execution_count": 142,
   "id": "b33d8040",
   "metadata": {
    "scrolled": true
   },
   "outputs": [
    {
     "data": {
      "text/plain": [
       "(178, 5)"
      ]
     },
     "execution_count": 142,
     "metadata": {},
     "output_type": "execute_result"
    }
   ],
   "source": [
    "dfgoogle.shape"
   ]
  },
  {
   "cell_type": "code",
   "execution_count": 164,
   "id": "94e05b57",
   "metadata": {
    "scrolled": false
   },
   "outputs": [
    {
     "data": {
      "text/html": [
       "<div>\n",
       "<style scoped>\n",
       "    .dataframe tbody tr th:only-of-type {\n",
       "        vertical-align: middle;\n",
       "    }\n",
       "\n",
       "    .dataframe tbody tr th {\n",
       "        vertical-align: top;\n",
       "    }\n",
       "\n",
       "    .dataframe thead th {\n",
       "        text-align: right;\n",
       "    }\n",
       "</style>\n",
       "<table border=\"1\" class=\"dataframe\">\n",
       "  <thead>\n",
       "    <tr style=\"text-align: right;\">\n",
       "      <th></th>\n",
       "      <th>Hotel</th>\n",
       "      <th>Google_Rate</th>\n",
       "      <th>Google_Habs</th>\n",
       "      <th>Google_Location</th>\n",
       "      <th>Google_Service</th>\n",
       "    </tr>\n",
       "  </thead>\n",
       "  <tbody>\n",
       "    <tr>\n",
       "      <th>0</th>\n",
       "      <td>Rosewood Castiglion del Bosco</td>\n",
       "      <td>4.8</td>\n",
       "      <td>4.3</td>\n",
       "      <td>4.1</td>\n",
       "      <td>4.6</td>\n",
       "    </tr>\n",
       "  </tbody>\n",
       "</table>\n",
       "</div>"
      ],
      "text/plain": [
       "                           Hotel  Google_Rate  Google_Habs  Google_Location  \\\n",
       "0  Rosewood Castiglion del Bosco          4.8          4.3              4.1   \n",
       "\n",
       "   Google_Service  \n",
       "0             4.6  "
      ]
     },
     "execution_count": 164,
     "metadata": {},
     "output_type": "execute_result"
    }
   ],
   "source": [
    "dfgoogle.head(1)"
   ]
  },
  {
   "cell_type": "code",
   "execution_count": 159,
   "id": "004735a6",
   "metadata": {},
   "outputs": [],
   "source": [
    "dfgoogle.to_csv(\"df_datos_google_unicos.csv\")"
   ]
  },
  {
   "cell_type": "markdown",
   "id": "2b61d2ae",
   "metadata": {},
   "source": [
    "From Kaggle, I've extract a data set of restaurants"
   ]
  },
  {
   "cell_type": "code",
   "execution_count": 77,
   "id": "3e7c8b61",
   "metadata": {},
   "outputs": [],
   "source": [
    "df = pd.read_csv(\"michelin_guide.csv\", sep=',', encoding='latin-1')\n",
    "pd.options.display.max_columns = None"
   ]
  },
  {
   "cell_type": "code",
   "execution_count": 78,
   "id": "30ae0d74",
   "metadata": {},
   "outputs": [
    {
     "data": {
      "text/plain": [
       "(6586, 13)"
      ]
     },
     "execution_count": 78,
     "metadata": {},
     "output_type": "execute_result"
    }
   ],
   "source": [
    "pd.options.display.max_rows = None\n",
    "df.shape"
   ]
  },
  {
   "cell_type": "code",
   "execution_count": 79,
   "id": "b0f11ddc",
   "metadata": {},
   "outputs": [
    {
     "data": {
      "text/html": [
       "<div>\n",
       "<style scoped>\n",
       "    .dataframe tbody tr th:only-of-type {\n",
       "        vertical-align: middle;\n",
       "    }\n",
       "\n",
       "    .dataframe tbody tr th {\n",
       "        vertical-align: top;\n",
       "    }\n",
       "\n",
       "    .dataframe thead th {\n",
       "        text-align: right;\n",
       "    }\n",
       "</style>\n",
       "<table border=\"1\" class=\"dataframe\">\n",
       "  <thead>\n",
       "    <tr style=\"text-align: right;\">\n",
       "      <th></th>\n",
       "      <th>Name</th>\n",
       "      <th>Address</th>\n",
       "      <th>Location</th>\n",
       "      <th>MinPrice</th>\n",
       "      <th>MaxPrice</th>\n",
       "      <th>Currency</th>\n",
       "      <th>Cuisine</th>\n",
       "      <th>Longitude</th>\n",
       "      <th>Latitude</th>\n",
       "      <th>Url</th>\n",
       "      <th>WebsiteUrl</th>\n",
       "      <th>Award</th>\n",
       "      <th>FacilitiesAndServices</th>\n",
       "    </tr>\n",
       "  </thead>\n",
       "  <tbody>\n",
       "    <tr>\n",
       "      <th>0</th>\n",
       "      <td>Le Palais</td>\n",
       "      <td>17F, Palais de Chine Hotel, 3, Section 1, Chen...</td>\n",
       "      <td>Taipei</td>\n",
       "      <td>6000.0</td>\n",
       "      <td>6000.0</td>\n",
       "      <td>TWD</td>\n",
       "      <td>Cantonese</td>\n",
       "      <td>121.516960</td>\n",
       "      <td>25.049071</td>\n",
       "      <td>https://guide.michelin.com/en/taipei-region/ta...</td>\n",
       "      <td>https://www.palaisdechinehotel.com/en/index.php</td>\n",
       "      <td>3 MICHELIN Stars</td>\n",
       "      <td>Air conditioning,American Express credit card,...</td>\n",
       "    </tr>\n",
       "    <tr>\n",
       "      <th>1</th>\n",
       "      <td>Les Amis</td>\n",
       "      <td>Shaw Centre, #01-16, 1 Scotts Road, 228208, Si...</td>\n",
       "      <td>Singapore</td>\n",
       "      <td>225.0</td>\n",
       "      <td>460.0</td>\n",
       "      <td>SGD</td>\n",
       "      <td>French</td>\n",
       "      <td>103.832040</td>\n",
       "      <td>1.306260</td>\n",
       "      <td>https://guide.michelin.com/en/singapore-region...</td>\n",
       "      <td>https://www.lesamis.com.sg/</td>\n",
       "      <td>3 MICHELIN Stars</td>\n",
       "      <td>Air conditioning,American Express credit card,...</td>\n",
       "    </tr>\n",
       "    <tr>\n",
       "      <th>2</th>\n",
       "      <td>Odette</td>\n",
       "      <td>National Gallery, #01-04, 1 St. Andrew's Road ...</td>\n",
       "      <td>Singapore</td>\n",
       "      <td>298.0</td>\n",
       "      <td>428.0</td>\n",
       "      <td>SGD</td>\n",
       "      <td>French Contemporary</td>\n",
       "      <td>103.851600</td>\n",
       "      <td>1.289646</td>\n",
       "      <td>https://guide.michelin.com/en/singapore-region...</td>\n",
       "      <td>http://www.odetterestaurant.com</td>\n",
       "      <td>3 MICHELIN Stars</td>\n",
       "      <td>Air conditioning,American Express credit card,...</td>\n",
       "    </tr>\n",
       "    <tr>\n",
       "      <th>3</th>\n",
       "      <td>ZÃ©n</td>\n",
       "      <td>41 Bukit Pasoh Road, 089855, Singapore</td>\n",
       "      <td>Singapore</td>\n",
       "      <td>580.0</td>\n",
       "      <td>580.0</td>\n",
       "      <td>SGD</td>\n",
       "      <td>European Contemporary</td>\n",
       "      <td>103.840420</td>\n",
       "      <td>1.279627</td>\n",
       "      <td>https://guide.michelin.com/en/singapore-region...</td>\n",
       "      <td>http://www.restaurantzen.com</td>\n",
       "      <td>3 MICHELIN Stars</td>\n",
       "      <td>Air conditioning,American Express credit card,...</td>\n",
       "    </tr>\n",
       "    <tr>\n",
       "      <th>4</th>\n",
       "      <td>Maaemo</td>\n",
       "      <td>Dronning Eufemias gate 23, Oslo, 0194, Norway</td>\n",
       "      <td>Oslo</td>\n",
       "      <td>3500.0</td>\n",
       "      <td>3500.0</td>\n",
       "      <td>NOK</td>\n",
       "      <td>Modern Cuisine, Creative</td>\n",
       "      <td>10.758636</td>\n",
       "      <td>59.907529</td>\n",
       "      <td>https://guide.michelin.com/en/oslo-region/oslo...</td>\n",
       "      <td>http://www.maaemo.no</td>\n",
       "      <td>3 MICHELIN Stars</td>\n",
       "      <td>Air conditioning,American Express credit card,...</td>\n",
       "    </tr>\n",
       "  </tbody>\n",
       "</table>\n",
       "</div>"
      ],
      "text/plain": [
       "        Name                                            Address   Location  \\\n",
       "0  Le Palais  17F, Palais de Chine Hotel, 3, Section 1, Chen...     Taipei   \n",
       "1   Les Amis  Shaw Centre, #01-16, 1 Scotts Road, 228208, Si...  Singapore   \n",
       "2     Odette  National Gallery, #01-04, 1 St. Andrew's Road ...  Singapore   \n",
       "3       ZÃ©n             41 Bukit Pasoh Road, 089855, Singapore  Singapore   \n",
       "4     Maaemo      Dronning Eufemias gate 23, Oslo, 0194, Norway       Oslo   \n",
       "\n",
       "   MinPrice  MaxPrice Currency                   Cuisine   Longitude  \\\n",
       "0    6000.0    6000.0      TWD                 Cantonese  121.516960   \n",
       "1     225.0     460.0      SGD                    French  103.832040   \n",
       "2     298.0     428.0      SGD       French Contemporary  103.851600   \n",
       "3     580.0     580.0      SGD     European Contemporary  103.840420   \n",
       "4    3500.0    3500.0      NOK  Modern Cuisine, Creative   10.758636   \n",
       "\n",
       "    Latitude                                                Url  \\\n",
       "0  25.049071  https://guide.michelin.com/en/taipei-region/ta...   \n",
       "1   1.306260  https://guide.michelin.com/en/singapore-region...   \n",
       "2   1.289646  https://guide.michelin.com/en/singapore-region...   \n",
       "3   1.279627  https://guide.michelin.com/en/singapore-region...   \n",
       "4  59.907529  https://guide.michelin.com/en/oslo-region/oslo...   \n",
       "\n",
       "                                        WebsiteUrl             Award  \\\n",
       "0  https://www.palaisdechinehotel.com/en/index.php  3 MICHELIN Stars   \n",
       "1                      https://www.lesamis.com.sg/  3 MICHELIN Stars   \n",
       "2                  http://www.odetterestaurant.com  3 MICHELIN Stars   \n",
       "3                     http://www.restaurantzen.com  3 MICHELIN Stars   \n",
       "4                             http://www.maaemo.no  3 MICHELIN Stars   \n",
       "\n",
       "                               FacilitiesAndServices  \n",
       "0  Air conditioning,American Express credit card,...  \n",
       "1  Air conditioning,American Express credit card,...  \n",
       "2  Air conditioning,American Express credit card,...  \n",
       "3  Air conditioning,American Express credit card,...  \n",
       "4  Air conditioning,American Express credit card,...  "
      ]
     },
     "execution_count": 79,
     "metadata": {},
     "output_type": "execute_result"
    }
   ],
   "source": [
    "df.head()"
   ]
  },
  {
   "cell_type": "markdown",
   "id": "fa7c3337",
   "metadata": {},
   "source": [
    "Below I create a new column called country with the data from the Address column"
   ]
  },
  {
   "cell_type": "code",
   "execution_count": 80,
   "id": "d81f44a6",
   "metadata": {},
   "outputs": [],
   "source": [
    "df['country'] = df['Address'].apply(lambda x: x.split(',')[-1].strip().split(\"&\")[0] if \"&\" in x.split(',')[-1].strip() else x.split(',')[-1].strip())"
   ]
  },
  {
   "cell_type": "code",
   "execution_count": 82,
   "id": "6f07a49c",
   "metadata": {},
   "outputs": [
    {
     "data": {
      "text/html": [
       "<div>\n",
       "<style scoped>\n",
       "    .dataframe tbody tr th:only-of-type {\n",
       "        vertical-align: middle;\n",
       "    }\n",
       "\n",
       "    .dataframe tbody tr th {\n",
       "        vertical-align: top;\n",
       "    }\n",
       "\n",
       "    .dataframe thead th {\n",
       "        text-align: right;\n",
       "    }\n",
       "</style>\n",
       "<table border=\"1\" class=\"dataframe\">\n",
       "  <thead>\n",
       "    <tr style=\"text-align: right;\">\n",
       "      <th></th>\n",
       "      <th>Name</th>\n",
       "      <th>Address</th>\n",
       "      <th>Location</th>\n",
       "      <th>MinPrice</th>\n",
       "      <th>MaxPrice</th>\n",
       "      <th>Currency</th>\n",
       "      <th>Cuisine</th>\n",
       "      <th>Longitude</th>\n",
       "      <th>Latitude</th>\n",
       "      <th>Url</th>\n",
       "      <th>WebsiteUrl</th>\n",
       "      <th>Award</th>\n",
       "      <th>FacilitiesAndServices</th>\n",
       "      <th>country</th>\n",
       "    </tr>\n",
       "  </thead>\n",
       "  <tbody>\n",
       "    <tr>\n",
       "      <th>0</th>\n",
       "      <td>Le Palais</td>\n",
       "      <td>17F, Palais de Chine Hotel, 3, Section 1, Chen...</td>\n",
       "      <td>Taipei</td>\n",
       "      <td>6000.0</td>\n",
       "      <td>6000.0</td>\n",
       "      <td>TWD</td>\n",
       "      <td>Cantonese</td>\n",
       "      <td>121.51696</td>\n",
       "      <td>25.049071</td>\n",
       "      <td>https://guide.michelin.com/en/taipei-region/ta...</td>\n",
       "      <td>https://www.palaisdechinehotel.com/en/index.php</td>\n",
       "      <td>3 MICHELIN Stars</td>\n",
       "      <td>Air conditioning,American Express credit card,...</td>\n",
       "      <td>Taipei</td>\n",
       "    </tr>\n",
       "    <tr>\n",
       "      <th>1</th>\n",
       "      <td>Les Amis</td>\n",
       "      <td>Shaw Centre, #01-16, 1 Scotts Road, 228208, Si...</td>\n",
       "      <td>Singapore</td>\n",
       "      <td>225.0</td>\n",
       "      <td>460.0</td>\n",
       "      <td>SGD</td>\n",
       "      <td>French</td>\n",
       "      <td>103.83204</td>\n",
       "      <td>1.306260</td>\n",
       "      <td>https://guide.michelin.com/en/singapore-region...</td>\n",
       "      <td>https://www.lesamis.com.sg/</td>\n",
       "      <td>3 MICHELIN Stars</td>\n",
       "      <td>Air conditioning,American Express credit card,...</td>\n",
       "      <td>Singapore</td>\n",
       "    </tr>\n",
       "  </tbody>\n",
       "</table>\n",
       "</div>"
      ],
      "text/plain": [
       "        Name                                            Address   Location  \\\n",
       "0  Le Palais  17F, Palais de Chine Hotel, 3, Section 1, Chen...     Taipei   \n",
       "1   Les Amis  Shaw Centre, #01-16, 1 Scotts Road, 228208, Si...  Singapore   \n",
       "\n",
       "   MinPrice  MaxPrice Currency    Cuisine  Longitude   Latitude  \\\n",
       "0    6000.0    6000.0      TWD  Cantonese  121.51696  25.049071   \n",
       "1     225.0     460.0      SGD     French  103.83204   1.306260   \n",
       "\n",
       "                                                 Url  \\\n",
       "0  https://guide.michelin.com/en/taipei-region/ta...   \n",
       "1  https://guide.michelin.com/en/singapore-region...   \n",
       "\n",
       "                                        WebsiteUrl             Award  \\\n",
       "0  https://www.palaisdechinehotel.com/en/index.php  3 MICHELIN Stars   \n",
       "1                      https://www.lesamis.com.sg/  3 MICHELIN Stars   \n",
       "\n",
       "                               FacilitiesAndServices    country  \n",
       "0  Air conditioning,American Express credit card,...    Taipei   \n",
       "1  Air conditioning,American Express credit card,...  Singapore  "
      ]
     },
     "execution_count": 82,
     "metadata": {},
     "output_type": "execute_result"
    }
   ],
   "source": [
    "df.head(2)"
   ]
  },
  {
   "cell_type": "code",
   "execution_count": 47,
   "id": "c5d60465",
   "metadata": {
    "scrolled": true
   },
   "outputs": [
    {
     "data": {
      "text/plain": [
       "array(['Taipei ', 'Singapore', 'Norway', 'Denmark', 'Sweden',\n",
       "       'Netherlands', 'Belgium', 'USA', 'France', 'Germany',\n",
       "       'United Kingdom', 'Austria', 'China Mainland', 'Macau',\n",
       "       'Hong Kong', 'Spain', 'Japan', 'South Korea', 'Italy',\n",
       "       'Switzerland', 'Greece', 'Canada', 'Slovenia', 'Finland', 'Dubai',\n",
       "       'Luxembourg', 'Ireland', 'Thailand', 'Portugal', 'Brazil',\n",
       "       'Iceland', 'Croatia', 'Estonia', 'Malta', 'Andorra', 'San Marino',\n",
       "       'Czech Republic', 'Hungary', 'Poland', 'Serbia'], dtype=object)"
      ]
     },
     "execution_count": 47,
     "metadata": {},
     "output_type": "execute_result"
    }
   ],
   "source": [
    "df[\"country\"].unique()"
   ]
  },
  {
   "cell_type": "markdown",
   "id": "b9a7079d",
   "metadata": {},
   "source": [
    "With this new column I will be able to cross the data with the data set of the hotel"
   ]
  },
  {
   "cell_type": "markdown",
   "id": "9ea5f941",
   "metadata": {},
   "source": [
    "Then I will extract the number of stars of the restaurant"
   ]
  },
  {
   "cell_type": "code",
   "execution_count": 83,
   "id": "9d388864",
   "metadata": {},
   "outputs": [],
   "source": [
    "def extract_first_value(column):\n",
    "    return column.str.split(\" \").str[0]\n",
    "\n",
    "df['stars'] = extract_first_value(df['Award'])"
   ]
  },
  {
   "cell_type": "code",
   "execution_count": 85,
   "id": "6dc363e8",
   "metadata": {
    "scrolled": true
   },
   "outputs": [
    {
     "data": {
      "text/html": [
       "<div>\n",
       "<style scoped>\n",
       "    .dataframe tbody tr th:only-of-type {\n",
       "        vertical-align: middle;\n",
       "    }\n",
       "\n",
       "    .dataframe tbody tr th {\n",
       "        vertical-align: top;\n",
       "    }\n",
       "\n",
       "    .dataframe thead th {\n",
       "        text-align: right;\n",
       "    }\n",
       "</style>\n",
       "<table border=\"1\" class=\"dataframe\">\n",
       "  <thead>\n",
       "    <tr style=\"text-align: right;\">\n",
       "      <th></th>\n",
       "      <th>Name</th>\n",
       "      <th>Address</th>\n",
       "      <th>Location</th>\n",
       "      <th>MinPrice</th>\n",
       "      <th>MaxPrice</th>\n",
       "      <th>Currency</th>\n",
       "      <th>Cuisine</th>\n",
       "      <th>Longitude</th>\n",
       "      <th>Latitude</th>\n",
       "      <th>Url</th>\n",
       "      <th>WebsiteUrl</th>\n",
       "      <th>Award</th>\n",
       "      <th>FacilitiesAndServices</th>\n",
       "      <th>country</th>\n",
       "      <th>stars</th>\n",
       "    </tr>\n",
       "  </thead>\n",
       "  <tbody>\n",
       "    <tr>\n",
       "      <th>0</th>\n",
       "      <td>Le Palais</td>\n",
       "      <td>17F, Palais de Chine Hotel, 3, Section 1, Chen...</td>\n",
       "      <td>Taipei</td>\n",
       "      <td>6000.0</td>\n",
       "      <td>6000.0</td>\n",
       "      <td>TWD</td>\n",
       "      <td>Cantonese</td>\n",
       "      <td>121.51696</td>\n",
       "      <td>25.049071</td>\n",
       "      <td>https://guide.michelin.com/en/taipei-region/ta...</td>\n",
       "      <td>https://www.palaisdechinehotel.com/en/index.php</td>\n",
       "      <td>3 MICHELIN Stars</td>\n",
       "      <td>Air conditioning,American Express credit card,...</td>\n",
       "      <td>Taipei</td>\n",
       "      <td>3</td>\n",
       "    </tr>\n",
       "    <tr>\n",
       "      <th>1</th>\n",
       "      <td>Les Amis</td>\n",
       "      <td>Shaw Centre, #01-16, 1 Scotts Road, 228208, Si...</td>\n",
       "      <td>Singapore</td>\n",
       "      <td>225.0</td>\n",
       "      <td>460.0</td>\n",
       "      <td>SGD</td>\n",
       "      <td>French</td>\n",
       "      <td>103.83204</td>\n",
       "      <td>1.306260</td>\n",
       "      <td>https://guide.michelin.com/en/singapore-region...</td>\n",
       "      <td>https://www.lesamis.com.sg/</td>\n",
       "      <td>3 MICHELIN Stars</td>\n",
       "      <td>Air conditioning,American Express credit card,...</td>\n",
       "      <td>Singapore</td>\n",
       "      <td>3</td>\n",
       "    </tr>\n",
       "  </tbody>\n",
       "</table>\n",
       "</div>"
      ],
      "text/plain": [
       "        Name                                            Address   Location  \\\n",
       "0  Le Palais  17F, Palais de Chine Hotel, 3, Section 1, Chen...     Taipei   \n",
       "1   Les Amis  Shaw Centre, #01-16, 1 Scotts Road, 228208, Si...  Singapore   \n",
       "\n",
       "   MinPrice  MaxPrice Currency    Cuisine  Longitude   Latitude  \\\n",
       "0    6000.0    6000.0      TWD  Cantonese  121.51696  25.049071   \n",
       "1     225.0     460.0      SGD     French  103.83204   1.306260   \n",
       "\n",
       "                                                 Url  \\\n",
       "0  https://guide.michelin.com/en/taipei-region/ta...   \n",
       "1  https://guide.michelin.com/en/singapore-region...   \n",
       "\n",
       "                                        WebsiteUrl             Award  \\\n",
       "0  https://www.palaisdechinehotel.com/en/index.php  3 MICHELIN Stars   \n",
       "1                      https://www.lesamis.com.sg/  3 MICHELIN Stars   \n",
       "\n",
       "                               FacilitiesAndServices    country stars  \n",
       "0  Air conditioning,American Express credit card,...    Taipei      3  \n",
       "1  Air conditioning,American Express credit card,...  Singapore     3  "
      ]
     },
     "execution_count": 85,
     "metadata": {},
     "output_type": "execute_result"
    }
   ],
   "source": [
    "df.head(2)"
   ]
  },
  {
   "cell_type": "code",
   "execution_count": 50,
   "id": "028d4167",
   "metadata": {
    "scrolled": true
   },
   "outputs": [
    {
     "data": {
      "text/plain": [
       "array(['Air conditioning,American Express credit card,Car park,China UnionPay,Credit card / Debit card accepted,JCB,Mastercard credit card,Visa credit card,Wheelchair access',\n",
       "       'Air conditioning,American Express credit card,Car park,China UnionPay,Credit card / Debit card accepted,Diners Club credit card,JCB,Mastercard credit card,Particularly interesting wine list,Restaurant offering vegetarian menus,Valet parking,Visa credit card,Wheelchair access',\n",
       "       'Air conditioning,American Express credit card,Car park,Credit card / Debit card accepted,Diners Club credit card,JCB,Maestro,Mastercard credit card,Particularly interesting wine list,Restaurant offering vegetarian menus,Visa credit card,Wheelchair access',\n",
       "       ...,\n",
       "       'Air conditioning,Booking essential - dinner,Credit card / Debit card accepted,Diners Club credit card,Mastercard credit card,Visa credit card',\n",
       "       'American Express credit card,Booking essential,Counter dining,Credit card / Debit card accepted,Diners Club credit card,Mastercard credit card,Terrace,Visa credit card',\n",
       "       'Air conditioning,American Express credit card,Booking essential - dinner,Credit card / Debit card accepted,Mastercard credit card,Particularly interesting wine list,Terrace,Visa credit card'],\n",
       "      dtype=object)"
      ]
     },
     "execution_count": 50,
     "metadata": {},
     "output_type": "execute_result"
    }
   ],
   "source": [
    "df[\"FacilitiesAndServices\"].unique()"
   ]
  },
  {
   "cell_type": "code",
   "execution_count": 86,
   "id": "131838a4",
   "metadata": {},
   "outputs": [],
   "source": [
    "df['country'].replace(to_replace='USA', value='United States', inplace=True)"
   ]
  },
  {
   "cell_type": "code",
   "execution_count": 87,
   "id": "ee6be800",
   "metadata": {
    "scrolled": true
   },
   "outputs": [
    {
     "data": {
      "text/plain": [
       "array(['Taipei ', 'Singapore', 'Norway', 'Denmark', 'Sweden',\n",
       "       'Netherlands', 'Belgium', 'United States', 'France', 'Germany',\n",
       "       'United Kingdom', 'Austria', 'China Mainland', 'Macau',\n",
       "       'Hong Kong', 'Spain', 'Japan', 'South Korea', 'Italy',\n",
       "       'Switzerland', 'Greece', 'Canada', 'Slovenia', 'Finland', 'Dubai',\n",
       "       'Luxembourg', 'Ireland', 'Thailand', 'Portugal', 'Brazil',\n",
       "       'Iceland', 'Croatia', 'Estonia', 'Malta', 'Andorra', 'San Marino',\n",
       "       'Czech Republic', 'Hungary', 'Poland', 'Serbia'], dtype=object)"
      ]
     },
     "execution_count": 87,
     "metadata": {},
     "output_type": "execute_result"
    }
   ],
   "source": [
    "df[\"country\"].unique()"
   ]
  },
  {
   "cell_type": "code",
   "execution_count": 88,
   "id": "e7f47912",
   "metadata": {},
   "outputs": [],
   "source": [
    "df['country'].replace(to_replace='China Mainland', value='China', inplace=True)"
   ]
  },
  {
   "cell_type": "code",
   "execution_count": 89,
   "id": "0a926f91",
   "metadata": {},
   "outputs": [],
   "source": [
    "df.to_csv(\"df_restaurants.csv\")"
   ]
  },
  {
   "cell_type": "code",
   "execution_count": 90,
   "id": "bc42fab7",
   "metadata": {},
   "outputs": [],
   "source": [
    "mask = df['stars'] == 'Bib'\n",
    "df_filtered = df[mask]"
   ]
  },
  {
   "cell_type": "code",
   "execution_count": 35,
   "id": "3027ae82",
   "metadata": {},
   "outputs": [],
   "source": [
    "#df3 = pd.read_csv(\"airports.csv\", sep=',', encoding='UTF-8')\n",
    "#pd.options.display.max_columns = None"
   ]
  },
  {
   "cell_type": "code",
   "execution_count": null,
   "id": "c45528fd",
   "metadata": {},
   "outputs": [],
   "source": [
    "df_exploded.head()"
   ]
  },
  {
   "cell_type": "markdown",
   "id": "7a44d1b1",
   "metadata": {},
   "source": [
    "With the tyoe of cuisin I will group the restaurants, as there are many different types"
   ]
  },
  {
   "cell_type": "code",
   "execution_count": 114,
   "id": "496ece4e",
   "metadata": {},
   "outputs": [],
   "source": [
    "def get_type_cuisine(cuisine):\n",
    "    if 'Modern' in cuisine or \"Fusion\" in cuisine:\n",
    "        return 'Modern'\n",
    "    elif 'Contemporary' in cuisine:\n",
    "        return 'Contemporary'\n",
    "    elif 'Creative' in cuisine:\n",
    "        return 'Creative'\n",
    "    elif 'Regional' in cuisine:\n",
    "        return 'Regional'\n",
    "    elif 'Classic' in cuisine or \"Traditional\" in cuisine:\n",
    "        return 'Classic'\n",
    "    else:\n",
    "        return 'Other' "
   ]
  },
  {
   "cell_type": "code",
   "execution_count": 115,
   "id": "b3db8bb4",
   "metadata": {},
   "outputs": [],
   "source": [
    "df['type_cuisine'] = df['Cuisine'].apply(get_type_cuisine)"
   ]
  },
  {
   "cell_type": "code",
   "execution_count": 116,
   "id": "57f04463",
   "metadata": {
    "scrolled": true
   },
   "outputs": [
    {
     "data": {
      "text/html": [
       "<div>\n",
       "<style scoped>\n",
       "    .dataframe tbody tr th:only-of-type {\n",
       "        vertical-align: middle;\n",
       "    }\n",
       "\n",
       "    .dataframe tbody tr th {\n",
       "        vertical-align: top;\n",
       "    }\n",
       "\n",
       "    .dataframe thead th {\n",
       "        text-align: right;\n",
       "    }\n",
       "</style>\n",
       "<table border=\"1\" class=\"dataframe\">\n",
       "  <thead>\n",
       "    <tr style=\"text-align: right;\">\n",
       "      <th></th>\n",
       "      <th>Name</th>\n",
       "      <th>Address</th>\n",
       "      <th>Location</th>\n",
       "      <th>MinPrice</th>\n",
       "      <th>MaxPrice</th>\n",
       "      <th>Currency</th>\n",
       "      <th>Cuisine</th>\n",
       "      <th>Longitude</th>\n",
       "      <th>Latitude</th>\n",
       "      <th>Url</th>\n",
       "      <th>WebsiteUrl</th>\n",
       "      <th>Award</th>\n",
       "      <th>FacilitiesAndServices</th>\n",
       "      <th>country</th>\n",
       "      <th>stars</th>\n",
       "      <th>type_cuisine</th>\n",
       "      <th>wine_list</th>\n",
       "      <th>american_express</th>\n",
       "      <th>vegetarian_menu</th>\n",
       "      <th>terrace</th>\n",
       "    </tr>\n",
       "  </thead>\n",
       "  <tbody>\n",
       "    <tr>\n",
       "      <th>0</th>\n",
       "      <td>Le Palais</td>\n",
       "      <td>17F, Palais de Chine Hotel, 3, Section 1, Chen...</td>\n",
       "      <td>Taipei</td>\n",
       "      <td>6000.0</td>\n",
       "      <td>6000.0</td>\n",
       "      <td>TWD</td>\n",
       "      <td>Cantonese</td>\n",
       "      <td>121.51696</td>\n",
       "      <td>25.049071</td>\n",
       "      <td>https://guide.michelin.com/en/taipei-region/ta...</td>\n",
       "      <td>https://www.palaisdechinehotel.com/en/index.php</td>\n",
       "      <td>3 MICHELIN Stars</td>\n",
       "      <td>Air conditioning,American Express credit card,...</td>\n",
       "      <td>Taipei</td>\n",
       "      <td>3</td>\n",
       "      <td>Other</td>\n",
       "      <td>0</td>\n",
       "      <td>0</td>\n",
       "      <td>0</td>\n",
       "      <td>0</td>\n",
       "    </tr>\n",
       "    <tr>\n",
       "      <th>1</th>\n",
       "      <td>Les Amis</td>\n",
       "      <td>Shaw Centre, #01-16, 1 Scotts Road, 228208, Si...</td>\n",
       "      <td>Singapore</td>\n",
       "      <td>225.0</td>\n",
       "      <td>460.0</td>\n",
       "      <td>SGD</td>\n",
       "      <td>French</td>\n",
       "      <td>103.83204</td>\n",
       "      <td>1.306260</td>\n",
       "      <td>https://guide.michelin.com/en/singapore-region...</td>\n",
       "      <td>https://www.lesamis.com.sg/</td>\n",
       "      <td>3 MICHELIN Stars</td>\n",
       "      <td>Air conditioning,American Express credit card,...</td>\n",
       "      <td>Singapore</td>\n",
       "      <td>3</td>\n",
       "      <td>Other</td>\n",
       "      <td>0</td>\n",
       "      <td>0</td>\n",
       "      <td>0</td>\n",
       "      <td>0</td>\n",
       "    </tr>\n",
       "  </tbody>\n",
       "</table>\n",
       "</div>"
      ],
      "text/plain": [
       "        Name                                            Address   Location  \\\n",
       "0  Le Palais  17F, Palais de Chine Hotel, 3, Section 1, Chen...     Taipei   \n",
       "1   Les Amis  Shaw Centre, #01-16, 1 Scotts Road, 228208, Si...  Singapore   \n",
       "\n",
       "   MinPrice  MaxPrice Currency    Cuisine  Longitude   Latitude  \\\n",
       "0    6000.0    6000.0      TWD  Cantonese  121.51696  25.049071   \n",
       "1     225.0     460.0      SGD     French  103.83204   1.306260   \n",
       "\n",
       "                                                 Url  \\\n",
       "0  https://guide.michelin.com/en/taipei-region/ta...   \n",
       "1  https://guide.michelin.com/en/singapore-region...   \n",
       "\n",
       "                                        WebsiteUrl             Award  \\\n",
       "0  https://www.palaisdechinehotel.com/en/index.php  3 MICHELIN Stars   \n",
       "1                      https://www.lesamis.com.sg/  3 MICHELIN Stars   \n",
       "\n",
       "                               FacilitiesAndServices    country stars  \\\n",
       "0  Air conditioning,American Express credit card,...    Taipei      3   \n",
       "1  Air conditioning,American Express credit card,...  Singapore     3   \n",
       "\n",
       "  type_cuisine  wine_list  american_express  vegetarian_menu  terrace  \n",
       "0        Other          0                 0                0        0  \n",
       "1        Other          0                 0                0        0  "
      ]
     },
     "execution_count": 116,
     "metadata": {},
     "output_type": "execute_result"
    }
   ],
   "source": [
    "df.head(2)"
   ]
  },
  {
   "cell_type": "markdown",
   "id": "7a26a3b5",
   "metadata": {},
   "source": [
    "I do the same with the facilities and services, I saw and think that there are some of the caracterics which are more relevant, so I will create coumns to se if they have the facilitiy or service"
   ]
  },
  {
   "cell_type": "code",
   "execution_count": 33,
   "id": "c520c215",
   "metadata": {},
   "outputs": [],
   "source": [
    "def has_wine_list(facilities):\n",
    "    try:\n",
    "        if 'wine' in facilities:\n",
    "            return 1\n",
    "        else:\n",
    "            return 0\n",
    "    except:\n",
    "        np.nan\n",
    "\n",
    "def accepts_american_express(facilities):\n",
    "    try:\n",
    "        if 'American Express credit card' in facilities:\n",
    "            return 1\n",
    "        else:\n",
    "            return 0\n",
    "    except:\n",
    "        np.nan\n",
    "        \n",
    "def vegetarian_menu(facilities):\n",
    "    try:\n",
    "        if 'vegetarian' in facilities:\n",
    "            return 1\n",
    "        else:\n",
    "            return 0\n",
    "    except :\n",
    "        np.nan\n",
    "\n",
    "def has_terrace(facilities):\n",
    "    try:\n",
    "        if 'Terrace' in facilities:\n",
    "            return 1\n",
    "        else:\n",
    "            return 0\n",
    "    except:\n",
    "        np.nan\n",
    "\n",
    "df['wine_list'] = df['FacilitiesAndServices'].apply(has_wine_list)\n",
    "df['american_express'] = df['FacilitiesAndServices'].apply(accepts_american_express)\n",
    "df['vegetarian_menu'] = df['FacilitiesAndServices'].apply(vegetarian_menu)\n",
    "df['terrace'] = df['FacilitiesAndServices'].apply(has_terrace)"
   ]
  },
  {
   "cell_type": "code",
   "execution_count": 34,
   "id": "56f221f8",
   "metadata": {},
   "outputs": [
    {
     "data": {
      "text/html": [
       "<div>\n",
       "<style scoped>\n",
       "    .dataframe tbody tr th:only-of-type {\n",
       "        vertical-align: middle;\n",
       "    }\n",
       "\n",
       "    .dataframe tbody tr th {\n",
       "        vertical-align: top;\n",
       "    }\n",
       "\n",
       "    .dataframe thead th {\n",
       "        text-align: right;\n",
       "    }\n",
       "</style>\n",
       "<table border=\"1\" class=\"dataframe\">\n",
       "  <thead>\n",
       "    <tr style=\"text-align: right;\">\n",
       "      <th></th>\n",
       "      <th>Name</th>\n",
       "      <th>Address</th>\n",
       "      <th>Location</th>\n",
       "      <th>MinPrice</th>\n",
       "      <th>MaxPrice</th>\n",
       "      <th>Currency</th>\n",
       "      <th>Cuisine</th>\n",
       "      <th>Longitude</th>\n",
       "      <th>Latitude</th>\n",
       "      <th>Url</th>\n",
       "      <th>WebsiteUrl</th>\n",
       "      <th>Award</th>\n",
       "      <th>FacilitiesAndServices</th>\n",
       "      <th>country</th>\n",
       "      <th>stars</th>\n",
       "      <th>type_cuisine</th>\n",
       "      <th>wine_list</th>\n",
       "      <th>american_express</th>\n",
       "      <th>vegetarian_menu</th>\n",
       "      <th>terrace</th>\n",
       "    </tr>\n",
       "  </thead>\n",
       "  <tbody>\n",
       "    <tr>\n",
       "      <th>0</th>\n",
       "      <td>Le Palais</td>\n",
       "      <td>17F, Palais de Chine Hotel, 3, Section 1, Chen...</td>\n",
       "      <td>Taipei</td>\n",
       "      <td>6000.0</td>\n",
       "      <td>6000.0</td>\n",
       "      <td>TWD</td>\n",
       "      <td>Cantonese</td>\n",
       "      <td>121.51696</td>\n",
       "      <td>25.049071</td>\n",
       "      <td>https://guide.michelin.com/en/taipei-region/ta...</td>\n",
       "      <td>https://www.palaisdechinehotel.com/en/index.php</td>\n",
       "      <td>3 MICHELIN Stars</td>\n",
       "      <td>Air conditioning,American Express credit card,...</td>\n",
       "      <td>Taipei</td>\n",
       "      <td>3</td>\n",
       "      <td>Other</td>\n",
       "      <td>0.0</td>\n",
       "      <td>1.0</td>\n",
       "      <td>0.0</td>\n",
       "      <td>0.0</td>\n",
       "    </tr>\n",
       "    <tr>\n",
       "      <th>1</th>\n",
       "      <td>Les Amis</td>\n",
       "      <td>Shaw Centre, #01-16, 1 Scotts Road, 228208, Si...</td>\n",
       "      <td>Singapore</td>\n",
       "      <td>225.0</td>\n",
       "      <td>460.0</td>\n",
       "      <td>SGD</td>\n",
       "      <td>French</td>\n",
       "      <td>103.83204</td>\n",
       "      <td>1.306260</td>\n",
       "      <td>https://guide.michelin.com/en/singapore-region...</td>\n",
       "      <td>https://www.lesamis.com.sg/</td>\n",
       "      <td>3 MICHELIN Stars</td>\n",
       "      <td>Air conditioning,American Express credit card,...</td>\n",
       "      <td>Singapore</td>\n",
       "      <td>3</td>\n",
       "      <td>Other</td>\n",
       "      <td>1.0</td>\n",
       "      <td>1.0</td>\n",
       "      <td>1.0</td>\n",
       "      <td>0.0</td>\n",
       "    </tr>\n",
       "  </tbody>\n",
       "</table>\n",
       "</div>"
      ],
      "text/plain": [
       "        Name                                            Address   Location  \\\n",
       "0  Le Palais  17F, Palais de Chine Hotel, 3, Section 1, Chen...     Taipei   \n",
       "1   Les Amis  Shaw Centre, #01-16, 1 Scotts Road, 228208, Si...  Singapore   \n",
       "\n",
       "   MinPrice  MaxPrice Currency    Cuisine  Longitude   Latitude  \\\n",
       "0    6000.0    6000.0      TWD  Cantonese  121.51696  25.049071   \n",
       "1     225.0     460.0      SGD     French  103.83204   1.306260   \n",
       "\n",
       "                                                 Url  \\\n",
       "0  https://guide.michelin.com/en/taipei-region/ta...   \n",
       "1  https://guide.michelin.com/en/singapore-region...   \n",
       "\n",
       "                                        WebsiteUrl             Award  \\\n",
       "0  https://www.palaisdechinehotel.com/en/index.php  3 MICHELIN Stars   \n",
       "1                      https://www.lesamis.com.sg/  3 MICHELIN Stars   \n",
       "\n",
       "                               FacilitiesAndServices    country stars  \\\n",
       "0  Air conditioning,American Express credit card,...    Taipei      3   \n",
       "1  Air conditioning,American Express credit card,...  Singapore     3   \n",
       "\n",
       "  type_cuisine  wine_list  american_express  vegetarian_menu  terrace  \n",
       "0        Other        0.0               1.0              0.0      0.0  \n",
       "1        Other        1.0               1.0              1.0      0.0  "
      ]
     },
     "execution_count": 34,
     "metadata": {},
     "output_type": "execute_result"
    }
   ],
   "source": [
    "df.head(2)"
   ]
  },
  {
   "cell_type": "code",
   "execution_count": 117,
   "id": "857a8e62",
   "metadata": {},
   "outputs": [
    {
     "data": {
      "text/plain": [
       "array(['Other', 'Contemporary', 'Modern', 'Creative', 'Classic',\n",
       "       'Regional'], dtype=object)"
      ]
     },
     "execution_count": 117,
     "metadata": {},
     "output_type": "execute_result"
    }
   ],
   "source": [
    "df[\"type_cuisine\"].unique()"
   ]
  },
  {
   "cell_type": "markdown",
   "id": "b25bfa31",
   "metadata": {},
   "source": [
    "I save the data set into I csv and start the visualization project"
   ]
  },
  {
   "cell_type": "code",
   "execution_count": 36,
   "id": "6aff91fe",
   "metadata": {},
   "outputs": [],
   "source": [
    "df.to_csv(\"df_restaurants.csv\")"
   ]
  },
  {
   "cell_type": "markdown",
   "id": "e3c3466e",
   "metadata": {},
   "source": [
    "I convert the data of the columns MinPrice and MaxPrice in float"
   ]
  },
  {
   "cell_type": "code",
   "execution_count": 4,
   "id": "fe532715",
   "metadata": {},
   "outputs": [],
   "source": [
    "df = pd.read_csv(\"../df_restaurants.csv\", sep=',', encoding='UTF-8',index_col=0)\n",
    "pd.options.display.max_columns = None\n",
    "pd.options.display.max_rows = None"
   ]
  },
  {
   "cell_type": "code",
   "execution_count": 6,
   "id": "8e73cf13",
   "metadata": {
    "scrolled": true
   },
   "outputs": [
    {
     "data": {
      "text/html": [
       "<div>\n",
       "<style scoped>\n",
       "    .dataframe tbody tr th:only-of-type {\n",
       "        vertical-align: middle;\n",
       "    }\n",
       "\n",
       "    .dataframe tbody tr th {\n",
       "        vertical-align: top;\n",
       "    }\n",
       "\n",
       "    .dataframe thead th {\n",
       "        text-align: right;\n",
       "    }\n",
       "</style>\n",
       "<table border=\"1\" class=\"dataframe\">\n",
       "  <thead>\n",
       "    <tr style=\"text-align: right;\">\n",
       "      <th></th>\n",
       "      <th>Name</th>\n",
       "      <th>Address</th>\n",
       "      <th>Location</th>\n",
       "      <th>MinPrice</th>\n",
       "      <th>MaxPrice</th>\n",
       "      <th>Currency</th>\n",
       "      <th>Cuisine</th>\n",
       "      <th>Longitude</th>\n",
       "      <th>Latitude</th>\n",
       "      <th>Url</th>\n",
       "      <th>WebsiteUrl</th>\n",
       "      <th>Award</th>\n",
       "      <th>FacilitiesAndServices</th>\n",
       "      <th>country</th>\n",
       "      <th>stars</th>\n",
       "      <th>type_cuisine</th>\n",
       "      <th>wine_list</th>\n",
       "      <th>american_express</th>\n",
       "      <th>vegetarian_menu</th>\n",
       "      <th>terrace</th>\n",
       "    </tr>\n",
       "  </thead>\n",
       "  <tbody>\n",
       "    <tr>\n",
       "      <th>0</th>\n",
       "      <td>Le Palais</td>\n",
       "      <td>17F, Palais de Chine Hotel, 3, Section 1, Chen...</td>\n",
       "      <td>Taipei</td>\n",
       "      <td>6000.0</td>\n",
       "      <td>6000.0</td>\n",
       "      <td>TWD</td>\n",
       "      <td>Cantonese</td>\n",
       "      <td>121.51696</td>\n",
       "      <td>25.049071</td>\n",
       "      <td>https://guide.michelin.com/en/taipei-region/ta...</td>\n",
       "      <td>https://www.palaisdechinehotel.com/en/index.php</td>\n",
       "      <td>3 MICHELIN Stars</td>\n",
       "      <td>Air conditioning,American Express credit card,...</td>\n",
       "      <td>Taipei</td>\n",
       "      <td>3</td>\n",
       "      <td>Other</td>\n",
       "      <td>0</td>\n",
       "      <td>0</td>\n",
       "      <td>0</td>\n",
       "      <td>0</td>\n",
       "    </tr>\n",
       "  </tbody>\n",
       "</table>\n",
       "</div>"
      ],
      "text/plain": [
       "        Name                                            Address Location  \\\n",
       "0  Le Palais  17F, Palais de Chine Hotel, 3, Section 1, Chen...   Taipei   \n",
       "\n",
       "   MinPrice  MaxPrice Currency    Cuisine  Longitude   Latitude  \\\n",
       "0    6000.0    6000.0      TWD  Cantonese  121.51696  25.049071   \n",
       "\n",
       "                                                 Url  \\\n",
       "0  https://guide.michelin.com/en/taipei-region/ta...   \n",
       "\n",
       "                                        WebsiteUrl             Award  \\\n",
       "0  https://www.palaisdechinehotel.com/en/index.php  3 MICHELIN Stars   \n",
       "\n",
       "                               FacilitiesAndServices  country stars  \\\n",
       "0  Air conditioning,American Express credit card,...  Taipei      3   \n",
       "\n",
       "  type_cuisine  wine_list  american_express  vegetarian_menu  terrace  \n",
       "0        Other          0                 0                0        0  "
      ]
     },
     "execution_count": 6,
     "metadata": {},
     "output_type": "execute_result"
    }
   ],
   "source": [
    "df.head(1)"
   ]
  },
  {
   "cell_type": "code",
   "execution_count": 7,
   "id": "c18f8880",
   "metadata": {},
   "outputs": [],
   "source": [
    "df['MinPrice'] = df['MinPrice'].astype(float)"
   ]
  },
  {
   "cell_type": "code",
   "execution_count": 8,
   "id": "e493c738",
   "metadata": {},
   "outputs": [],
   "source": [
    "df['MaxPrice'] = df['MaxPrice'].astype(float)"
   ]
  },
  {
   "cell_type": "markdown",
   "id": "2e9162d9",
   "metadata": {},
   "source": [
    "I save the data set into I csv and start the visualization project"
   ]
  },
  {
   "cell_type": "code",
   "execution_count": 35,
   "id": "4eece988",
   "metadata": {},
   "outputs": [],
   "source": [
    "df.to_csv(\"../Data/df_restaurants.csv\")"
   ]
  },
  {
   "cell_type": "markdown",
   "id": "071cf6fe",
   "metadata": {},
   "source": [
    "We are going to create a dataframe with the rates of exchange so we can compare prices"
   ]
  },
  {
   "cell_type": "code",
   "execution_count": 19,
   "id": "b307b733",
   "metadata": {
    "scrolled": true
   },
   "outputs": [
    {
     "data": {
      "text/plain": [
       "array(['TWD', 'SGD', 'NOK', 'DKK', 'SEK', 'EUR', 'USD', 'GBP', 'CNY',\n",
       "       'MOP', 'HKD', 'JPY', 'KRW', 'CHF', 'CAD', 'AED', nan, 'THB', 'BRL',\n",
       "       'ISK', 'HRK', 'CZK', 'HUF', 'PLN', 'RSD'], dtype=object)"
      ]
     },
     "execution_count": 19,
     "metadata": {},
     "output_type": "execute_result"
    }
   ],
   "source": [
    "df[\"Currency\"].unique()"
   ]
  },
  {
   "cell_type": "code",
   "execution_count": 21,
   "id": "b26bed92",
   "metadata": {},
   "outputs": [],
   "source": [
    "rates = df[\"Currency\"].unique().tolist()\n",
    "df_rates = pd.DataFrame(rates, columns=[\"Currency\"])"
   ]
  },
  {
   "cell_type": "markdown",
   "id": "d11407d6",
   "metadata": {},
   "source": [
    "I did it manually as there were not many currencies"
   ]
  },
  {
   "cell_type": "code",
   "execution_count": 24,
   "id": "4f5def5f",
   "metadata": {},
   "outputs": [],
   "source": [
    "df_rates['rates'] = [0.031, 0.7 , 0.092, 0.13, 0.09, 1, 0.93, 1.13, 0.14, 0.12, 0.12, 0.0700, 0.00073, 1.01, 0.7, 0.25, 1, 0.028, 0.18, 0.0065, 0.132723, 0.042, 0.0026, 0.21, 0.0085]"
   ]
  },
  {
   "cell_type": "code",
   "execution_count": 26,
   "id": "68600ea2",
   "metadata": {},
   "outputs": [
    {
     "data": {
      "text/html": [
       "<div>\n",
       "<style scoped>\n",
       "    .dataframe tbody tr th:only-of-type {\n",
       "        vertical-align: middle;\n",
       "    }\n",
       "\n",
       "    .dataframe tbody tr th {\n",
       "        vertical-align: top;\n",
       "    }\n",
       "\n",
       "    .dataframe thead th {\n",
       "        text-align: right;\n",
       "    }\n",
       "</style>\n",
       "<table border=\"1\" class=\"dataframe\">\n",
       "  <thead>\n",
       "    <tr style=\"text-align: right;\">\n",
       "      <th></th>\n",
       "      <th>Currency</th>\n",
       "      <th>rates</th>\n",
       "    </tr>\n",
       "  </thead>\n",
       "  <tbody>\n",
       "    <tr>\n",
       "      <th>0</th>\n",
       "      <td>TWD</td>\n",
       "      <td>0.031</td>\n",
       "    </tr>\n",
       "    <tr>\n",
       "      <th>1</th>\n",
       "      <td>SGD</td>\n",
       "      <td>0.700</td>\n",
       "    </tr>\n",
       "  </tbody>\n",
       "</table>\n",
       "</div>"
      ],
      "text/plain": [
       "  Currency  rates\n",
       "0      TWD  0.031\n",
       "1      SGD  0.700"
      ]
     },
     "execution_count": 26,
     "metadata": {},
     "output_type": "execute_result"
    }
   ],
   "source": [
    "df_rates.head(2)"
   ]
  },
  {
   "cell_type": "code",
   "execution_count": 27,
   "id": "7f1e208c",
   "metadata": {},
   "outputs": [],
   "source": [
    "df_rates.to_csv(\"../Data/df_rates.csv\")"
   ]
  }
 ],
 "metadata": {
  "kernelspec": {
   "display_name": "IRONHACK",
   "language": "python",
   "name": "ironhack"
  },
  "language_info": {
   "codemirror_mode": {
    "name": "ipython",
    "version": 3
   },
   "file_extension": ".py",
   "mimetype": "text/x-python",
   "name": "python",
   "nbconvert_exporter": "python",
   "pygments_lexer": "ipython3",
   "version": "3.10.8"
  }
 },
 "nbformat": 4,
 "nbformat_minor": 5
}
